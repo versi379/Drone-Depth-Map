version https://git-lfs.github.com/spec/v1
oid sha256:3160ccb24ec85ecbd79d6aef65ebb5ce9c0d58f1ac19f896c22bca73f9354c5b
size 5739
